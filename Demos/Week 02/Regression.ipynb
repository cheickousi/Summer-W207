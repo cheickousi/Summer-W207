{
 "cells": [
  {
   "cell_type": "markdown",
   "metadata": {},
   "source": [
    "### Experiment with Gradient Descent for Linear Regression."
   ]
  },
  {
   "cell_type": "markdown",
   "metadata": {},
   "source": [
    "Enough irises. Let's use the Boston housing data set and try training some regression models. This notebook features the <a href=\"http://stanford.edu/~mwaskom/software/seaborn/index.html\">seaborn package</a> which makes all plots prettier and has some nice built-in features like the correlation plot you'll see below. You'll probably have to install it (ideally with pip)."
   ]
  },
  {
   "cell_type": "code",
   "execution_count": 1,
   "metadata": {},
   "outputs": [],
   "source": [
    "# This tells matplotlib not to try opening a new window for each plot.\n",
    "%matplotlib inline\n",
    "\n",
    "import pandas\n",
    "import matplotlib.pyplot as plt\n",
    "import seaborn as sns\n",
    "import numpy as np\n",
    "import time\n",
    "from numpy.linalg import inv\n",
    "from sklearn.datasets import load_boston\n",
    "from sklearn.linear_model import LinearRegression\n",
    "from sklearn import preprocessing\n",
    "\n",
    "\n",
    "np.set_printoptions(precision=4, suppress=True)"
   ]
  },
  {
   "cell_type": "markdown",
   "metadata": {},
   "source": [
    "Load the Boston housing data. This data set is pretty out-of-date since it was collected in the 1970s. Each of the 506 entries represents a local district in the Boston area. The standard target variable is the median home value in the district (in 1000s of dollars). Let's print out the description along with a histogram of the target. Notice that the distribution of median value is roughly Gaussian with a significant outlier -- there are around 15 very wealthy districts."
   ]
  },
  {
   "cell_type": "code",
   "execution_count": 2,
   "metadata": {},
   "outputs": [
    {
     "name": "stdout",
     "output_type": "stream",
     "text": [
      "Boston House Prices dataset\n",
      "===========================\n",
      "\n",
      "Notes\n",
      "------\n",
      "Data Set Characteristics:  \n",
      "\n",
      "    :Number of Instances: 506 \n",
      "\n",
      "    :Number of Attributes: 13 numeric/categorical predictive\n",
      "    \n",
      "    :Median Value (attribute 14) is usually the target\n",
      "\n",
      "    :Attribute Information (in order):\n",
      "        - CRIM     per capita crime rate by town\n",
      "        - ZN       proportion of residential land zoned for lots over 25,000 sq.ft.\n",
      "        - INDUS    proportion of non-retail business acres per town\n",
      "        - CHAS     Charles River dummy variable (= 1 if tract bounds river; 0 otherwise)\n",
      "        - NOX      nitric oxides concentration (parts per 10 million)\n",
      "        - RM       average number of rooms per dwelling\n",
      "        - AGE      proportion of owner-occupied units built prior to 1940\n",
      "        - DIS      weighted distances to five Boston employment centres\n",
      "        - RAD      index of accessibility to radial highways\n",
      "        - TAX      full-value property-tax rate per $10,000\n",
      "        - PTRATIO  pupil-teacher ratio by town\n",
      "        - B        1000(Bk - 0.63)^2 where Bk is the proportion of blacks by town\n",
      "        - LSTAT    % lower status of the population\n",
      "        - MEDV     Median value of owner-occupied homes in $1000's\n",
      "\n",
      "    :Missing Attribute Values: None\n",
      "\n",
      "    :Creator: Harrison, D. and Rubinfeld, D.L.\n",
      "\n",
      "This is a copy of UCI ML housing dataset.\n",
      "http://archive.ics.uci.edu/ml/datasets/Housing\n",
      "\n",
      "\n",
      "This dataset was taken from the StatLib library which is maintained at Carnegie Mellon University.\n",
      "\n",
      "The Boston house-price data of Harrison, D. and Rubinfeld, D.L. 'Hedonic\n",
      "prices and the demand for clean air', J. Environ. Economics & Management,\n",
      "vol.5, 81-102, 1978.   Used in Belsley, Kuh & Welsch, 'Regression diagnostics\n",
      "...', Wiley, 1980.   N.B. Various transformations are used in the table on\n",
      "pages 244-261 of the latter.\n",
      "\n",
      "The Boston house-price data has been used in many machine learning papers that address regression\n",
      "problems.   \n",
      "     \n",
      "**References**\n",
      "\n",
      "   - Belsley, Kuh & Welsch, 'Regression diagnostics: Identifying Influential Data and Sources of Collinearity', Wiley, 1980. 244-261.\n",
      "   - Quinlan,R. (1993). Combining Instance-Based and Model-Based Learning. In Proceedings on the Tenth International Conference of Machine Learning, 236-243, University of Massachusetts, Amherst. Morgan Kaufmann.\n",
      "   - many more! (see http://archive.ics.uci.edu/ml/datasets/Housing)\n",
      "\n"
     ]
    },
    {
     "data": {
      "image/png": "[encoded data removed]",
      "text/plain": [
       "<matplotlib.figure.Figure at 0x1178c82b0>"
      ]
     },
     "metadata": {},
     "output_type": "display_data"
    }
   ],
   "source": [
    "boston = load_boston()\n",
    "X, Y = boston.data, boston.target\n",
    "plt.hist(Y, 50)\n",
    "plt.xlabel('Median value (in $1000)')\n",
    "print (boston.DESCR)"
   ]
  },
  {
   "cell_type": "markdown",
   "metadata": {},
   "source": [
    "As usual, let's create separate training and test data."
   ]
  },
  {
   "cell_type": "code",
   "execution_count": 5,
   "metadata": {},
   "outputs": [],
   "source": [
    "# Shuffle the data, but make sure that the features and accompanying labels stay in sync.\n",
    "np.random.seed(0)\n",
    "shuffle = np.random.permutation(np.arange(X.shape[0]))\n",
    "X, Y = X[shuffle], Y[shuffle]\n",
    "\n",
    "# Split into train and test.\n",
    "train_data, train_labels = X[:350], Y[:350]\n",
    "test_data, test_labels = X[350:], Y[350:]"
   ]
  },
  {
   "cell_type": "markdown",
   "metadata": {},
   "source": [
    "Before we start making any predictions, let's get some intuition about the data by examining the correlations. Seaborn makes it easy to visualize a correlation matrix. Note, for example, that value and crime rate are negatively correlated: districts with lower crime rates tend to be higher valued."
   ]
  },
  {
   "cell_type": "code",
   "execution_count": 6,
   "metadata": {},
   "outputs": [
    {
     "data": {
      "image/png": "[encoded data removed]",
      "text/plain": [
       "<matplotlib.figure.Figure at 0x117f5b4e0>"
      ]
     },
     "metadata": {},
     "output_type": "display_data"
    }
   ],
   "source": [
    "# Combine all the variables (features and target) into a single matrix so we can easily compute all the correlations.\n",
    "# Is there a better way to do this??\n",
    "train_labels_as_matrix = np.array([train_labels]).T\n",
    "all_data = np.hstack((train_data, train_labels_as_matrix))\n",
    "all_labels = np.append(boston.feature_names, 'VALUE')\n",
    "\n",
    "corr = pandas.DataFrame(all_data).corr()\n",
    "# Generate a mask for the upper triangle\n",
    "mask = np.zeros_like(corr, dtype=np.bool)\n",
    "mask[np.triu_indices_from(mask)] = True\n",
    "\n",
    "# Use seaborn to create a pretty correlation heatmap.\n",
    "fig, ax = plt.subplots(figsize=(9, 9))\n",
    "cmap = sns.diverging_palette(220, 10, as_cmap=True)\n",
    "sns.heatmap(corr, mask=mask, cmap=cmap, ax=ax,  square=True)\n",
    "fig.tight_layout()"
   ]
  },
  {
   "cell_type": "markdown",
   "metadata": {},
   "source": [
    "Ok. Let's implement gradient descent. It's more efficient to implement it with vector calculations, though this may be a bit more difficult to understand at first glance. Try to think through each step and make sure you understand how it works."
   ]
  },
  {
   "cell_type": "code",
   "execution_count": 29,
   "metadata": {},
   "outputs": [
    {
     "data": {
      "image/png": "[encoded data removed]",
      "text/plain": [
       "<matplotlib.figure.Figure at 0x11873ecf8>"
      ]
     },
     "metadata": {},
     "output_type": "display_data"
    }
   ],
   "source": [
    "# eta is the learning rate; smaller values will tend to give slower but more precise convergence.\n",
    "# num_iters is the number of iterations to run.\n",
    "def gradient_descent(train_data, target_data, eta, num_iters):\n",
    "    # Add a 1 to each feature vector so we learn an intercept.\n",
    "    X = np.c_[np.ones(train_data.shape[0]), train_data]\n",
    "    \n",
    "    # m = number of samples, k = number of features\n",
    "    m, k = X.shape\n",
    "    \n",
    "    # Initially, set all the parameters to 1.\n",
    "    theta = np.ones(k)\n",
    "    \n",
    "    # Keep track of costs after each step.\n",
    "    costs = []\n",
    "    \n",
    "    for iter in range(0, num_iters):\n",
    "        # Get the current predictions for the training examples given the current estimate of theta.\n",
    "        hypothesis = np.dot(X, theta)\n",
    "        \n",
    "        # The loss is the difference between the predictions and the actual target values.\n",
    "        loss = hypothesis - target_data\n",
    "        \n",
    "        # In standard linear regression, we want to minimize the sum of squared losses.\n",
    "        cost = np.sum(loss ** 2) / (2 * m)\n",
    "        costs.append(cost)\n",
    "        \n",
    "        # Compute the gradient.\n",
    "        gradient = np.dot(X.T, loss) / m\n",
    "\n",
    "        # Update theta, scaling the gradient by the learning rate.\n",
    "        theta = theta - eta * gradient\n",
    "        \n",
    "    return theta, costs\n",
    "\n",
    "# Run gradient descent and plot the cost vs iterations.\n",
    "theta, costs = gradient_descent(train_data[:,0:1], train_labels, .01, 1000)\n",
    "plt.plot(costs)\n",
    "plt.xlabel('Iteration'), plt.ylabel('Cost')\n",
    "plt.show()\n"
   ]
  },
  {
   "cell_type": "code",
   "execution_count": 35,
   "metadata": {},
   "outputs": [
    {
     "data": {
      "text/plain": [
       "array([[  0.0662],\n",
       "       [  0.0819],\n",
       "       [  0.1143],\n",
       "       [  0.0536],\n",
       "       [  0.0136],\n",
       "       [  0.0336],\n",
       "       [  0.1079],\n",
       "       [  0.043 ],\n",
       "       [  0.638 ],\n",
       "       [ 28.6558],\n",
       "       [ 38.3518],\n",
       "       [  3.6782],\n",
       "       [  2.2424],\n",
       "       [  0.6236],\n",
       "       [  0.0621],\n",
       "       [  0.0827],\n",
       "       [  0.241 ],\n",
       "       [  3.8368],\n",
       "       [  4.8982],\n",
       "       [  0.3401],\n",
       "       [  8.983 ],\n",
       "       [  0.0916],\n",
       "       [ 14.2362],\n",
       "       [ 14.4208],\n",
       "       [  9.2323],\n",
       "       [  0.0366],\n",
       "       [ 15.0234],\n",
       "       [  4.4223],\n",
       "       [  0.0502],\n",
       "       [ 11.5779],\n",
       "       [  0.0537],\n",
       "       [  0.1448],\n",
       "       [  0.075 ],\n",
       "       [  0.082 ],\n",
       "       [ 15.1772],\n",
       "       [  3.535 ],\n",
       "       [  0.1396],\n",
       "       [  8.7167],\n",
       "       [  9.9248],\n",
       "       [  0.0374],\n",
       "       [  2.1551],\n",
       "       [ 12.0482],\n",
       "       [  0.122 ],\n",
       "       [  0.1359],\n",
       "       [  0.2297],\n",
       "       [ 15.8744],\n",
       "       [  0.5783],\n",
       "       [  0.0131],\n",
       "       [  5.7082],\n",
       "       [  0.0438],\n",
       "       [  9.9166],\n",
       "       [  0.2498],\n",
       "       [  4.8714],\n",
       "       [  0.0702],\n",
       "       [ 20.0849],\n",
       "       [  0.1001],\n",
       "       [  0.0801],\n",
       "       [  0.055 ],\n",
       "       [  0.1107],\n",
       "       [  0.3035],\n",
       "       [ 45.7461],\n",
       "       [  0.0927],\n",
       "       [  1.1266],\n",
       "       [  0.1588],\n",
       "       [  5.0902],\n",
       "       [  0.1265],\n",
       "       [  0.5341],\n",
       "       [  4.8121],\n",
       "       [  0.2293],\n",
       "       [  0.1355],\n",
       "       [  0.0822],\n",
       "       [  0.0154],\n",
       "       [  0.056 ],\n",
       "       [  6.444 ],\n",
       "       [  0.0324],\n",
       "       [  5.7312],\n",
       "       [  8.7921],\n",
       "       [  0.493 ],\n",
       "       [  0.9762],\n",
       "       [  0.2288],\n",
       "       [  0.1446],\n",
       "       [  0.0578],\n",
       "       [ 10.8342],\n",
       "       [  1.1517],\n",
       "       [  0.7857],\n",
       "       [  0.2839],\n",
       "       [  0.9884],\n",
       "       [  0.0616],\n",
       "       [  0.1676],\n",
       "       [  9.3291],\n",
       "       [ 11.8123],\n",
       "       [  0.0396],\n",
       "       [  1.2074],\n",
       "       [  2.4467],\n",
       "       [  3.6931],\n",
       "       [ 37.6619],\n",
       "       [  0.0798],\n",
       "       [  0.7258],\n",
       "       [  0.1919],\n",
       "       [  0.0493],\n",
       "       [  5.4411],\n",
       "       [  0.0866],\n",
       "       [  0.0506],\n",
       "       [ 22.5971],\n",
       "       [  0.4357],\n",
       "       [  0.3692],\n",
       "       [  0.0686],\n",
       "       [  0.4124],\n",
       "       [  0.053 ],\n",
       "       [  0.2684],\n",
       "       [  0.1312],\n",
       "       [  0.2591],\n",
       "       [  0.0358],\n",
       "       [  2.4495],\n",
       "       [  1.4634],\n",
       "       [  0.0276],\n",
       "       [  8.4921],\n",
       "       [  0.0883],\n",
       "       [ 13.3598],\n",
       "       [  9.3389],\n",
       "       [  0.1954],\n",
       "       [  0.402 ],\n",
       "       [  0.1405],\n",
       "       [  5.6917],\n",
       "       [  0.0824],\n",
       "       [  0.2982],\n",
       "       [  0.0201],\n",
       "       [  0.0411],\n",
       "       [  0.0573],\n",
       "       [  0.029 ],\n",
       "       [  2.7797],\n",
       "       [  0.0498],\n",
       "       [  0.1015],\n",
       "       [  0.5405],\n",
       "       [  0.1733],\n",
       "       [  6.2881],\n",
       "       [  4.5419],\n",
       "       [  0.0434],\n",
       "       [  0.0918],\n",
       "       [  5.872 ],\n",
       "       [  0.8027],\n",
       "       [  5.8212],\n",
       "       [  0.179 ],\n",
       "       [  4.6688],\n",
       "       [  0.0304],\n",
       "       [  2.3139],\n",
       "       [  0.0482],\n",
       "       [  0.0468],\n",
       "       [  0.5445],\n",
       "       [  4.6469],\n",
       "       [  0.2141],\n",
       "       [  0.0556],\n",
       "       [  0.1029],\n",
       "       [  0.0331],\n",
       "       [  0.0938],\n",
       "       [  0.252 ],\n",
       "       [  0.1487],\n",
       "       [  3.697 ],\n",
       "       [  0.1096],\n",
       "       [ 20.7162],\n",
       "       [  0.2061],\n",
       "       [  0.037 ],\n",
       "       [  8.2481],\n",
       "       [ 14.3337],\n",
       "       [ 10.0623],\n",
       "       [  0.0659],\n",
       "       [  0.069 ],\n",
       "       [  3.3211],\n",
       "       [ 51.1358],\n",
       "       [  0.6298],\n",
       "       [  0.0311],\n",
       "       [  0.0358],\n",
       "       [  2.3686],\n",
       "       [  6.7177],\n",
       "       [  0.0715],\n",
       "       [  0.1504],\n",
       "       [  0.0288],\n",
       "       [  0.5206],\n",
       "       [  0.2075],\n",
       "       [  0.0613],\n",
       "       [  0.4479],\n",
       "       [  0.0789],\n",
       "       [ 14.3337],\n",
       "       [ 13.0751],\n",
       "       [  3.775 ],\n",
       "       [  1.0539],\n",
       "       [  0.2116],\n",
       "       [  9.9665],\n",
       "       [  0.4418],\n",
       "       [  0.0883],\n",
       "       [  0.1208],\n",
       "       [  0.0305],\n",
       "       [ 15.5757],\n",
       "       [ 16.8118],\n",
       "       [  2.8184],\n",
       "       [  0.0564],\n",
       "       [  0.1274],\n",
       "       [  0.2896],\n",
       "       [  0.3153],\n",
       "       [ 19.6091],\n",
       "       [  0.3298],\n",
       "       [ 17.8667],\n",
       "       [  0.6566],\n",
       "       [  0.0355],\n",
       "       [  0.852 ],\n",
       "       [ 14.4383],\n",
       "       [  0.2244],\n",
       "       [  0.0351],\n",
       "       [  6.3931],\n",
       "       [  0.3523],\n",
       "       [  0.0626],\n",
       "       [ 11.0874],\n",
       "       [  0.1293],\n",
       "       [  0.0218],\n",
       "       [  0.151 ],\n",
       "       [  0.1227],\n",
       "       [  0.0345],\n",
       "       [  0.0453],\n",
       "       [  0.1364],\n",
       "       [  0.0273],\n",
       "       [  0.5269],\n",
       "       [  0.4077],\n",
       "       [  0.0354],\n",
       "       [  0.042 ],\n",
       "       [  0.1061],\n",
       "       [  1.0025],\n",
       "       [  0.0508],\n",
       "       [  2.6355],\n",
       "       [  0.0642],\n",
       "       [  0.0951],\n",
       "       [  0.7616],\n",
       "       [  0.8405],\n",
       "       [  0.0138],\n",
       "       [  5.2018],\n",
       "       [  0.1751],\n",
       "       [  0.1545],\n",
       "       [  0.0393],\n",
       "       [  0.8253],\n",
       "       [  4.2224],\n",
       "       [  0.0615],\n",
       "       [  1.8003],\n",
       "       [  0.8812],\n",
       "       [  0.0837],\n",
       "       [  2.3004],\n",
       "       [  0.773 ],\n",
       "       [  0.0925],\n",
       "       [ 15.8603],\n",
       "       [  0.0387],\n",
       "       [  8.1517],\n",
       "       [  1.2735],\n",
       "       [  0.0377],\n",
       "       [  0.0672],\n",
       "       [  0.0974],\n",
       "       [  0.1778],\n",
       "       [  0.0144],\n",
       "       [  0.0187],\n",
       "       [  0.0566],\n",
       "       [  0.0871],\n",
       "       [  0.2636],\n",
       "       [  0.1066],\n",
       "       [  2.1492],\n",
       "       [  0.0315],\n",
       "       [  0.1282],\n",
       "       [ 88.9762],\n",
       "       [  0.0887],\n",
       "       [  0.0579],\n",
       "       [  0.1306],\n",
       "       [  2.331 ],\n",
       "       [  0.0845],\n",
       "       [  1.4963],\n",
       "       [  0.128 ],\n",
       "       [  0.1146],\n",
       "       [  0.0171],\n",
       "       [  7.4039],\n",
       "       [  0.2198],\n",
       "       [  0.0985],\n",
       "       [  0.091 ],\n",
       "       [  1.6128],\n",
       "       [  0.2219],\n",
       "       [  3.4743],\n",
       "       [ 14.0507],\n",
       "       [  1.388 ],\n",
       "       [  0.1594],\n",
       "       [  0.6115],\n",
       "       [  4.0384],\n",
       "       [  0.1326],\n",
       "       [  0.0608],\n",
       "       [  0.6719],\n",
       "       [ 13.6781],\n",
       "       [  0.0613],\n",
       "       [ 73.5341],\n",
       "       [  0.0273],\n",
       "       [ 23.6482],\n",
       "       [  0.0178],\n",
       "       [  9.187 ],\n",
       "       [  9.5136],\n",
       "       [  0.5118],\n",
       "       [  4.5559],\n",
       "       [  0.1403],\n",
       "       [  0.6147],\n",
       "       [  0.093 ],\n",
       "       [  0.1884],\n",
       "       [  0.17  ],\n",
       "       [  1.6286],\n",
       "       [  0.0831],\n",
       "       [  5.67  ],\n",
       "       [  2.3793],\n",
       "       [  7.9925],\n",
       "       [  9.8235],\n",
       "       [  0.5501],\n",
       "       [  1.8338],\n",
       "       [  0.0355],\n",
       "       [  0.59  ],\n",
       "       [ 13.5222],\n",
       "       [  1.2325],\n",
       "       [  0.0664],\n",
       "       [  0.2796],\n",
       "       [  2.924 ],\n",
       "       [  0.1712],\n",
       "       [  0.0839],\n",
       "       [  0.0519],\n",
       "       [  0.1509],\n",
       "       [  0.0691],\n",
       "       [  0.9558],\n",
       "       [  0.0701],\n",
       "       [  5.824 ],\n",
       "       [  0.5401],\n",
       "       [  7.7522],\n",
       "       [  9.3906],\n",
       "       [  0.1644],\n",
       "       [  0.3398],\n",
       "       [  8.2673],\n",
       "       [  0.0091],\n",
       "       [  0.3511],\n",
       "       [  7.526 ],\n",
       "       [ 10.233 ],\n",
       "       [  0.0429],\n",
       "       [  4.0974],\n",
       "       [  0.1717],\n",
       "       [  0.3494],\n",
       "       [  0.1175],\n",
       "       [  0.2617],\n",
       "       [  1.6566],\n",
       "       [ 25.9406],\n",
       "       [  0.1415],\n",
       "       [  2.3786],\n",
       "       [  0.169 ],\n",
       "       [  0.1047],\n",
       "       [  0.3254],\n",
       "       [ 13.9134]])"
      ]
     },
     "execution_count": 35,
     "metadata": {},
     "output_type": "execute_result"
    }
   ],
   "source": [
    "train_data[:,0:1]"
   ]
  },
  {
   "cell_type": "code",
   "execution_count": 30,
   "metadata": {},
   "outputs": [
    {
     "data": {
      "text/plain": [
       "array([ 24.0309,  -0.3883])"
      ]
     },
     "execution_count": 30,
     "metadata": {},
     "output_type": "execute_result"
    }
   ],
   "source": [
    "theta"
   ]
  },
  {
   "cell_type": "markdown",
   "metadata": {},
   "source": [
    "Let's compare our results to sklearn's regression as well as the algebraic solution to \"ordinary least squares\". Try increasing the number of iterations above to see whether we get closer."
   ]
  },
  {
   "cell_type": "code",
   "execution_count": 32,
   "metadata": {},
   "outputs": [],
   "source": [
    "?LinearRegression"
   ]
  },
  {
   "cell_type": "code",
   "execution_count": 31,
   "metadata": {},
   "outputs": [
    {
     "name": "stdout",
     "output_type": "stream",
     "text": [
      "Our estimated theta:     24.0309 + -0.3883*CRIM\n",
      "OLS estimated theta:     24.0354 + -0.3885*CRIM\n",
      "sklearn estimated theta: 24.0354 + -0.3885*CRIM\n"
     ]
    }
   ],
   "source": [
    "def OLS(X, Y):\n",
    "    # Add the intercept.\n",
    "    X = np.c_[np.ones(X.shape[0]), X]\n",
    "    \n",
    "    # We use np.linalg.inv() to compute a matrix inverse.\n",
    "    return np.dot(inv(np.dot(X.T, X)), np.dot(X.T, Y))\n",
    "\n",
    "ols_solution = OLS(train_data[:,0:1], train_labels)\n",
    "\n",
    "lr = LinearRegression(fit_intercept=True)\n",
    "lr.fit(train_data[:,0:1], train_labels)\n",
    "\n",
    "print ('Our estimated theta:     %.4f + %.4f*CRIM' %(theta[0], theta[1]))\n",
    "print ('OLS estimated theta:     %.4f + %.4f*CRIM' %(ols_solution[0], ols_solution[1]))\n",
    "print ('sklearn estimated theta: %.4f + %.4f*CRIM' %(lr.intercept_, lr.coef_[0]))"
   ]
  },
  {
   "cell_type": "markdown",
   "metadata": {},
   "source": [
    "Ok, let's try fitting a model that uses more of the variables. Let's run just a few iterations and check the cost function."
   ]
  },
  {
   "cell_type": "code",
   "execution_count": 44,
   "metadata": {},
   "outputs": [
    {
     "name": "stderr",
     "output_type": "stream",
     "text": [
      "/Users/amitbhattacharyya/.virtualenvs/datascience3/lib/python3.6/site-packages/ipykernel_launcher.py:24: RuntimeWarning: overflow encountered in square\n"
     ]
    },
    {
     "data": {
      "image/png": "[encoded data removed]",
      "text/plain": [
       "<matplotlib.figure.Figure at 0x111df50f0>"
      ]
     },
     "metadata": {},
     "output_type": "display_data"
    }
   ],
   "source": [
    "num_feats = 5\n",
    "theta, costs = gradient_descent(train_data[:,0:num_feats], train_labels, .01, 500)\n",
    "plt.plot(np.log(costs))\n",
    "plt.xlabel('Iteration'), plt.ylabel('Log Cost')\n",
    "plt.show()"
   ]
  },
  {
   "cell_type": "markdown",
   "metadata": {},
   "source": [
    "The cost is increasing and fast! This can happen when the learning rate is too large. The updated parameters skip over the optimum and the cost ends up larger than it was before. Let's reduce the learning rate and try again. "
   ]
  },
  {
   "cell_type": "code",
   "execution_count": 45,
   "metadata": {},
   "outputs": [
    {
     "data": {
      "image/png": "[encoded data removed]",
      "text/plain": [
       "<matplotlib.figure.Figure at 0x111df57b8>"
      ]
     },
     "metadata": {},
     "output_type": "display_data"
    },
    {
     "name": "stdout",
     "output_type": "stream",
     "text": [
      "Training time: 1.54 secs\n",
      "Our estimated theta: [ 25.4899  -0.2065   0.0748  -0.5145   6.4674   4.3216]\n",
      "OLS estimated theta: [ 30.3228  -0.1888   0.0654  -0.4059   6.8261  -6.4953]\n"
     ]
    }
   ],
   "source": [
    "start_time = time.time()\n",
    "theta, costs = gradient_descent(train_data[:,0:num_feats], train_labels, .001, 100000)\n",
    "train_time = time.time() - start_time\n",
    "plt.plot(np.log(costs))\n",
    "plt.xlabel('Iteration'), plt.ylabel('Log Cost')\n",
    "plt.show()\n",
    "\n",
    "print ('Training time: %.2f secs' %train_time)\n",
    "print ('Our estimated theta:', theta)\n",
    "print ('OLS estimated theta:', OLS(train_data[:,0:num_feats], train_labels))"
   ]
  },
  {
   "cell_type": "markdown",
   "metadata": {},
   "source": [
    "This is getting pretty slow, and it looks like it hasn't yet converged (see the last value of theta, especially). The scale of the parameters can also make convergence difficult. Let's examine the distributions of the features we're using."
   ]
  },
  {
   "cell_type": "code",
   "execution_count": 46,
   "metadata": {},
   "outputs": [
    {
     "data": {
      "image/png": "[encoded data removed]",
      "text/plain": [
       "<matplotlib.figure.Figure at 0x11884a2e8>"
      ]
     },
     "metadata": {},
     "output_type": "display_data"
    }
   ],
   "source": [
    "plt.figure(figsize=(15, 3))\n",
    "for feature in range(num_feats):\n",
    "    plt.subplot(1, num_feats, feature+1)\n",
    "    plt.hist(train_data[:,feature])\n",
    "    plt.title(boston.feature_names[feature])"
   ]
  },
  {
   "cell_type": "markdown",
   "metadata": {},
   "source": [
    "Clearly, the distribution of the feature values varies a great deal. Let's apply the standard scaler -- subtract the mean, divide by the standard deviation -- for each feature. This is built in as a preprocessor in sklearn. We run the fit() function on the training data and then apply the transformation to both train and test data. We don't fit on the test data because this would be cheating -- we shouldn't know in advance the mean and variance of the feature values in the test data, so we assume they are the same as the training data."
   ]
  },
  {
   "cell_type": "code",
   "execution_count": 47,
   "metadata": {},
   "outputs": [
    {
     "data": {
      "image/png": "[encoded data removed]",
      "text/plain": [
       "<matplotlib.figure.Figure at 0x119bcd320>"
      ]
     },
     "metadata": {},
     "output_type": "display_data"
    }
   ],
   "source": [
    "scaler = preprocessing.StandardScaler()\n",
    "scaler.fit(train_data)\n",
    "scaled_train_data = scaler.transform(train_data)\n",
    "scaled_test_data = scaler.transform(test_data)\n",
    "\n",
    "plt.figure(figsize=(15, 3))\n",
    "\n",
    "for feature in range(5):\n",
    "    plt.subplot(1, 5, feature+1)\n",
    "    plt.hist(scaled_train_data[:,feature])\n",
    "    plt.title(boston.feature_names[feature])"
   ]
  },
  {
   "cell_type": "markdown",
   "metadata": {},
   "source": [
    "Ok, let's try gradient descent again. We can increase the learning rate and decrease the number of iterations."
   ]
  },
  {
   "cell_type": "code",
   "execution_count": 48,
   "metadata": {},
   "outputs": [
    {
     "data": {
      "image/png": "[encoded data removed]",
      "text/plain": [
       "<matplotlib.figure.Figure at 0x1184c6cc0>"
      ]
     },
     "metadata": {},
     "output_type": "display_data"
    },
    {
     "name": "stdout",
     "output_type": "stream",
     "text": [
      "Training time: 0.12 secs\n",
      "Our estimated theta: [ 22.6046  -1.6695   1.4927  -2.7382   1.7251  -0.7601]\n",
      "OLS estimated theta: [ 22.6046  -1.6695   1.4927  -2.7382   1.7251  -0.7601]\n"
     ]
    }
   ],
   "source": [
    "start_time = time.time()\n",
    "theta, costs = gradient_descent(scaled_train_data[:,0:5], train_labels, .01, 5000)\n",
    "train_time = time.time() - start_time\n",
    "plt.plot(np.log(costs))\n",
    "plt.xlabel('Iteration'), plt.ylabel('Log Cost')\n",
    "plt.show()\n",
    "\n",
    "print ('Training time: %.2f secs' %train_time)\n",
    "print ('Our estimated theta:', theta)\n",
    "print ('OLS estimated theta:', OLS(scaled_train_data[:,0:5], train_labels))"
   ]
  },
  {
   "cell_type": "markdown",
   "metadata": {},
   "source": [
    "Why do we even bother with gradient descent when the closed form solution works just fine?\n",
    "\n",
    "There are many answers. First, gradient descent is a general-purpose tool; we are applying it to the least squares problem which happens to have a closed form solution, but most other machine learning objectives do not have this luxury.\n",
    "\n",
    "Also, if we want to add regularization, we can no longer use the algebraic formula.\n",
    "\n",
    "Here's one more reason: You can't take the inverse of a singular matrix. That is, if two of our features are co-linear, the inverse function will fail. Gradient descent doesn't have this problem and should learn instead to share the weight appropriately between the two co-linear features. Let's test this by simply adding a copy of the crime feature."
   ]
  },
  {
   "cell_type": "code",
   "execution_count": 50,
   "metadata": {},
   "outputs": [
    {
     "name": "stdout",
     "output_type": "stream",
     "text": [
      "Our estimated theta: [ 22.6046  -0.8348  -0.8348   1.4927  -2.7382   1.7251  -0.7601]\n",
      "OLS estimated theta:\n",
      "ERROR, singular matrix not invertible\n"
     ]
    }
   ],
   "source": [
    "# Create an augmented training set that has 2 copies of the crime variable.\n",
    "augmented_train_data = np.c_[scaled_train_data[:,0], scaled_train_data]\n",
    "\n",
    "# Run gradient descent and OLS and compare the results.\n",
    "theta, costs = gradient_descent(augmented_train_data[:,0:6], train_labels, .01, 5000)\n",
    "print ('Our estimated theta:', theta)\n",
    "\n",
    "print ('OLS estimated theta:',)\n",
    "try: print (OLS(augmented_train_data[:,0:6], train_labels))\n",
    "except: print ('ERROR, singular matrix not invertible')"
   ]
  },
  {
   "cell_type": "markdown",
   "metadata": {},
   "source": [
    "One final note about regression models. As you may know, they have become extremely common in all sorts of analysis. When all the various assumptions of the model are assumed to be true, it is tempting to interpret the estimated coefficients as causal. For example, in our 5-variable model above, we might conclude that a reduction in (standardized) per-capita crime rate of 1 would result in an increase in median value of about $18,194.\n",
    "\n",
    "Statistically, though, this conclusion is almost impossible to justify. You can see just how brittle the coefficients are in these experiments with gradient descent. Try adding a variable, for example. Or if we haven't quite found the global minimum, one coefficient can still change quite dramatically.\n",
    "\n",
    "This is why regression is much more useful for prediction than it is for understanding causal relationships. If we only care about prediction, we don't need to worry about whether the many model assumptions (like whether any meaningful variables are missing) are true. It is possible to study causation with statistical analysis, but simply running regression is not sufficient."
   ]
  }
 ],
 "metadata": {
  "kernelspec": {
   "display_name": "Python 3",
   "language": "python",
   "name": "python3"
  },
  "language_info": {
   "codemirror_mode": {
    "name": "ipython",
    "version": 3
   },
   "file_extension": ".py",
   "mimetype": "text/x-python",
   "name": "python",
   "nbconvert_exporter": "python",
   "pygments_lexer": "ipython3",
   "version": "3.6.5"
  }
 },
 "nbformat": 4,
 "nbformat_minor": 1
}
